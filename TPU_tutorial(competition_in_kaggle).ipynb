{
  "cells": [
    {
      "cell_type": "markdown",
      "metadata": {
        "id": "view-in-github",
        "colab_type": "text"
      },
      "source": [
        "<a href=\"https://colab.research.google.com/github/ta3h30nk1m/Flower_Classification_on_TPU-kaggle-/blob/main/TPU_tutorial(competition_in_kaggle).ipynb\" target=\"_parent\"><img src=\"https://colab.research.google.com/assets/colab-badge.svg\" alt=\"Open In Colab\"/></a>"
      ]
    },
    {
      "cell_type": "markdown",
      "metadata": {
        "id": "MD0bHHYUn4tB"
      },
      "source": [
        "# TPU Tutorial\n",
        "(https://www.kaggle.com/ryanholbrook/create-your-first-submission) \n",
        "\n",
        "A tutorial provided by Ryan Holbrook in Kaggle to introduce how to use TPU in model training."
      ]
    },
    {
      "cell_type": "code",
      "execution_count": null,
      "metadata": {
        "id": "FgU7Yhmjnxqx"
      },
      "outputs": [],
      "source": [
        "import math, re, os\n",
        "import numpy as np\n",
        "import tensorflow as tf\n"
      ]
    },
    {
      "cell_type": "markdown",
      "metadata": {
        "id": "VuG9KOpmoWM0"
      },
      "source": [
        "TPU has 8 cores and each of these cores acts as its own accelerator (it's like training on 8 GPU in one machine) "
      ]
    },
    {
      "cell_type": "code",
      "execution_count": null,
      "metadata": {
        "colab": {
          "base_uri": "https://localhost:8080/"
        },
        "id": "MGORZ2MhoTrc",
        "outputId": "16d39c70-4887-4c58-ac3e-16997d3ee393"
      },
      "outputs": [
        {
          "output_type": "stream",
          "name": "stdout",
          "text": [
            "Running on TPU  grpc://10.85.164.10:8470\n",
            "INFO:tensorflow:Deallocate tpu buffers before initializing tpu system.\n"
          ]
        },
        {
          "output_type": "stream",
          "name": "stderr",
          "text": [
            "INFO:tensorflow:Deallocate tpu buffers before initializing tpu system.\n"
          ]
        },
        {
          "output_type": "stream",
          "name": "stdout",
          "text": [
            "INFO:tensorflow:Initializing the TPU system: grpc://10.85.164.10:8470\n"
          ]
        },
        {
          "output_type": "stream",
          "name": "stderr",
          "text": [
            "INFO:tensorflow:Initializing the TPU system: grpc://10.85.164.10:8470\n"
          ]
        },
        {
          "output_type": "stream",
          "name": "stdout",
          "text": [
            "INFO:tensorflow:Finished initializing TPU system.\n"
          ]
        },
        {
          "output_type": "stream",
          "name": "stderr",
          "text": [
            "INFO:tensorflow:Finished initializing TPU system.\n"
          ]
        },
        {
          "output_type": "stream",
          "name": "stdout",
          "text": [
            "INFO:tensorflow:Found TPU system:\n"
          ]
        },
        {
          "output_type": "stream",
          "name": "stderr",
          "text": [
            "INFO:tensorflow:Found TPU system:\n"
          ]
        },
        {
          "output_type": "stream",
          "name": "stdout",
          "text": [
            "INFO:tensorflow:*** Num TPU Cores: 8\n"
          ]
        },
        {
          "output_type": "stream",
          "name": "stderr",
          "text": [
            "INFO:tensorflow:*** Num TPU Cores: 8\n"
          ]
        },
        {
          "output_type": "stream",
          "name": "stdout",
          "text": [
            "INFO:tensorflow:*** Num TPU Workers: 1\n"
          ]
        },
        {
          "output_type": "stream",
          "name": "stderr",
          "text": [
            "INFO:tensorflow:*** Num TPU Workers: 1\n"
          ]
        },
        {
          "output_type": "stream",
          "name": "stdout",
          "text": [
            "INFO:tensorflow:*** Num TPU Cores Per Worker: 8\n"
          ]
        },
        {
          "output_type": "stream",
          "name": "stderr",
          "text": [
            "INFO:tensorflow:*** Num TPU Cores Per Worker: 8\n"
          ]
        },
        {
          "output_type": "stream",
          "name": "stdout",
          "text": [
            "INFO:tensorflow:*** Available Device: _DeviceAttributes(/job:localhost/replica:0/task:0/device:CPU:0, CPU, 0, 0)\n"
          ]
        },
        {
          "output_type": "stream",
          "name": "stderr",
          "text": [
            "INFO:tensorflow:*** Available Device: _DeviceAttributes(/job:localhost/replica:0/task:0/device:CPU:0, CPU, 0, 0)\n"
          ]
        },
        {
          "output_type": "stream",
          "name": "stdout",
          "text": [
            "INFO:tensorflow:*** Available Device: _DeviceAttributes(/job:worker/replica:0/task:0/device:CPU:0, CPU, 0, 0)\n"
          ]
        },
        {
          "output_type": "stream",
          "name": "stderr",
          "text": [
            "INFO:tensorflow:*** Available Device: _DeviceAttributes(/job:worker/replica:0/task:0/device:CPU:0, CPU, 0, 0)\n"
          ]
        },
        {
          "output_type": "stream",
          "name": "stdout",
          "text": [
            "INFO:tensorflow:*** Available Device: _DeviceAttributes(/job:worker/replica:0/task:0/device:TPU:0, TPU, 0, 0)\n"
          ]
        },
        {
          "output_type": "stream",
          "name": "stderr",
          "text": [
            "INFO:tensorflow:*** Available Device: _DeviceAttributes(/job:worker/replica:0/task:0/device:TPU:0, TPU, 0, 0)\n"
          ]
        },
        {
          "output_type": "stream",
          "name": "stdout",
          "text": [
            "INFO:tensorflow:*** Available Device: _DeviceAttributes(/job:worker/replica:0/task:0/device:TPU:1, TPU, 0, 0)\n"
          ]
        },
        {
          "output_type": "stream",
          "name": "stderr",
          "text": [
            "INFO:tensorflow:*** Available Device: _DeviceAttributes(/job:worker/replica:0/task:0/device:TPU:1, TPU, 0, 0)\n"
          ]
        },
        {
          "output_type": "stream",
          "name": "stdout",
          "text": [
            "INFO:tensorflow:*** Available Device: _DeviceAttributes(/job:worker/replica:0/task:0/device:TPU:2, TPU, 0, 0)\n"
          ]
        },
        {
          "output_type": "stream",
          "name": "stderr",
          "text": [
            "INFO:tensorflow:*** Available Device: _DeviceAttributes(/job:worker/replica:0/task:0/device:TPU:2, TPU, 0, 0)\n"
          ]
        },
        {
          "output_type": "stream",
          "name": "stdout",
          "text": [
            "INFO:tensorflow:*** Available Device: _DeviceAttributes(/job:worker/replica:0/task:0/device:TPU:3, TPU, 0, 0)\n"
          ]
        },
        {
          "output_type": "stream",
          "name": "stderr",
          "text": [
            "INFO:tensorflow:*** Available Device: _DeviceAttributes(/job:worker/replica:0/task:0/device:TPU:3, TPU, 0, 0)\n"
          ]
        },
        {
          "output_type": "stream",
          "name": "stdout",
          "text": [
            "INFO:tensorflow:*** Available Device: _DeviceAttributes(/job:worker/replica:0/task:0/device:TPU:4, TPU, 0, 0)\n"
          ]
        },
        {
          "output_type": "stream",
          "name": "stderr",
          "text": [
            "INFO:tensorflow:*** Available Device: _DeviceAttributes(/job:worker/replica:0/task:0/device:TPU:4, TPU, 0, 0)\n"
          ]
        },
        {
          "output_type": "stream",
          "name": "stdout",
          "text": [
            "INFO:tensorflow:*** Available Device: _DeviceAttributes(/job:worker/replica:0/task:0/device:TPU:5, TPU, 0, 0)\n"
          ]
        },
        {
          "output_type": "stream",
          "name": "stderr",
          "text": [
            "INFO:tensorflow:*** Available Device: _DeviceAttributes(/job:worker/replica:0/task:0/device:TPU:5, TPU, 0, 0)\n"
          ]
        },
        {
          "output_type": "stream",
          "name": "stdout",
          "text": [
            "INFO:tensorflow:*** Available Device: _DeviceAttributes(/job:worker/replica:0/task:0/device:TPU:6, TPU, 0, 0)\n"
          ]
        },
        {
          "output_type": "stream",
          "name": "stderr",
          "text": [
            "INFO:tensorflow:*** Available Device: _DeviceAttributes(/job:worker/replica:0/task:0/device:TPU:6, TPU, 0, 0)\n"
          ]
        },
        {
          "output_type": "stream",
          "name": "stdout",
          "text": [
            "INFO:tensorflow:*** Available Device: _DeviceAttributes(/job:worker/replica:0/task:0/device:TPU:7, TPU, 0, 0)\n"
          ]
        },
        {
          "output_type": "stream",
          "name": "stderr",
          "text": [
            "INFO:tensorflow:*** Available Device: _DeviceAttributes(/job:worker/replica:0/task:0/device:TPU:7, TPU, 0, 0)\n"
          ]
        },
        {
          "output_type": "stream",
          "name": "stdout",
          "text": [
            "INFO:tensorflow:*** Available Device: _DeviceAttributes(/job:worker/replica:0/task:0/device:TPU_SYSTEM:0, TPU_SYSTEM, 0, 0)\n"
          ]
        },
        {
          "output_type": "stream",
          "name": "stderr",
          "text": [
            "INFO:tensorflow:*** Available Device: _DeviceAttributes(/job:worker/replica:0/task:0/device:TPU_SYSTEM:0, TPU_SYSTEM, 0, 0)\n"
          ]
        },
        {
          "output_type": "stream",
          "name": "stdout",
          "text": [
            "INFO:tensorflow:*** Available Device: _DeviceAttributes(/job:worker/replica:0/task:0/device:XLA_CPU:0, XLA_CPU, 0, 0)\n"
          ]
        },
        {
          "output_type": "stream",
          "name": "stderr",
          "text": [
            "INFO:tensorflow:*** Available Device: _DeviceAttributes(/job:worker/replica:0/task:0/device:XLA_CPU:0, XLA_CPU, 0, 0)\n"
          ]
        },
        {
          "output_type": "stream",
          "name": "stdout",
          "text": [
            "REPLICAS:  8\n"
          ]
        }
      ],
      "source": [
        "# Detect TPU, return appropriate distribution strategy\n",
        "try:\n",
        "  tpu = tf.distribute.cluster_resolver.TPUClusterResolver()\n",
        "  print('Running on TPU ', tpu.master())\n",
        "except ValueError:\n",
        "  tpu = None\n",
        "\n",
        "if tpu:\n",
        "  tf.config.experimental_connect_to_cluster(tpu)\n",
        "  tf.tpu.experimental.initialize_tpu_system(tpu)\n",
        "  strategy = tf.distribute.TPUStrategy(tpu)\n",
        "else:\n",
        "  strategy = tf.distribute.get_strategy()\n",
        "\n",
        "print(\"REPLICAS: \", strategy.num_replicas_in_sync)"
      ]
    },
    {
      "cell_type": "markdown",
      "metadata": {
        "id": "G40xYkKqpoNP"
      },
      "source": [
        "When used with TPUs, datasets need to be stored in a Google Cloud Storage bucket (GCS)\n"
      ]
    },
    {
      "cell_type": "code",
      "execution_count": null,
      "metadata": {
        "id": "owVw6q1iplgT"
      },
      "outputs": [],
      "source": [
        "GCS_DS_PATH = 'gs://kds-97f9bc1f76ad08ba5d37e9ea281c38b4a4a88a85d73dfadaeff39519'  # this is the path where the file is saved in GCS\n",
        "\n",
        "IMAGE_SIZE = [512, 512]\n",
        "GCS_PATH = GCS_DS_PATH + '/tfrecords-jpeg-512x512'\n",
        "AUTO = tf.data.experimental.AUTOTUNE\n",
        "\n",
        "TRAINING_FILENAMES = tf.io.gfile.glob(GCS_PATH + '/train/*.tfrec')\n",
        "VALIDATION_FILENAMES = tf.io.gfile.glob(GCS_PATH + '/val/*.tfrec')\n",
        "TEST_FILENAMES = tf.io.gfile.glob(GCS_PATH + '/test/*.tfrec') \n",
        "\n",
        "CLASSES = ['pink primrose',    'hard-leaved pocket orchid', 'canterbury bells', 'sweet pea',     'wild geranium',     'tiger lily',           'moon orchid',              'bird of paradise', 'monkshood',        'globe thistle',         # 00 - 09\n",
        "           'snapdragon',       \"colt's foot\",               'king protea',      'spear thistle', 'yellow iris',       'globe-flower',         'purple coneflower',        'peruvian lily',    'balloon flower',   'giant white arum lily', # 10 - 19\n",
        "           'fire lily',        'pincushion flower',         'fritillary',       'red ginger',    'grape hyacinth',    'corn poppy',           'prince of wales feathers', 'stemless gentian', 'artichoke',        'sweet william',         # 20 - 29\n",
        "           'carnation',        'garden phlox',              'love in the mist', 'cosmos',        'alpine sea holly',  'ruby-lipped cattleya', 'cape flower',              'great masterwort', 'siam tulip',       'lenten rose',           # 30 - 39\n",
        "           'barberton daisy',  'daffodil',                  'sword lily',       'poinsettia',    'bolero deep blue',  'wallflower',           'marigold',                 'buttercup',        'daisy',            'common dandelion',      # 40 - 49\n",
        "           'petunia',          'wild pansy',                'primula',          'sunflower',     'lilac hibiscus',    'bishop of llandaff',   'gaura',                    'geranium',         'orange dahlia',    'pink-yellow dahlia',    # 50 - 59\n",
        "           'cautleya spicata', 'japanese anemone',          'black-eyed susan', 'silverbush',    'californian poppy', 'osteospermum',         'spring crocus',            'iris',             'windflower',       'tree poppy',            # 60 - 69\n",
        "           'gazania',          'azalea',                    'water lily',       'rose',          'thorn apple',       'morning glory',        'passion flower',           'lotus',            'toad lily',        'anthurium',             # 70 - 79\n",
        "           'frangipani',       'clematis',                  'hibiscus',         'columbine',     'desert-rose',       'tree mallow',          'magnolia',                 'cyclamen ',        'watercress',       'canna lily',            # 80 - 89\n",
        "           'hippeastrum ',     'bee balm',                  'pink quill',       'foxglove',      'bougainvillea',     'camellia',             'mallow',                   'mexican petunia',  'bromelia',         'blanket flower',        # 90 - 99\n",
        "           'trumpet creeper',  'blackberry lily',           'common tulip',     'wild rose']\n",
        "\n",
        "def decode_image(image_data):\n",
        "    image = tf.image.decode_jpeg(image_data, channels=3)\n",
        "    image = tf.cast(image, tf.float32) / 255.0  # convert image to floats in [0, 1] range\n",
        "    image = tf.reshape(image, [*IMAGE_SIZE, 3]) # explicit size needed for TPU\n",
        "    return image\n",
        "\n",
        "def read_labeled_tfrecord(example):\n",
        "    LABELED_TFREC_FORMAT = {\n",
        "        \"image\": tf.io.FixedLenFeature([], tf.string), # tf.string means bytestring\n",
        "        \"class\": tf.io.FixedLenFeature([], tf.int64),  # shape [] means single element\n",
        "    }\n",
        "    example = tf.io.parse_single_example(example, LABELED_TFREC_FORMAT)\n",
        "    image = decode_image(example['image'])\n",
        "    label = tf.cast(example['class'], tf.int32)\n",
        "    return image, label # returns a dataset of (image, label) pairs\n",
        "\n",
        "def read_unlabeled_tfrecord(example):\n",
        "    UNLABELED_TFREC_FORMAT = {\n",
        "        \"image\": tf.io.FixedLenFeature([], tf.string), # tf.string means bytestring\n",
        "        \"id\": tf.io.FixedLenFeature([], tf.string),  # shape [] means single element\n",
        "        # class is missing, this competitions's challenge is to predict flower classes for the test dataset\n",
        "    }\n",
        "    example = tf.io.parse_single_example(example, UNLABELED_TFREC_FORMAT)\n",
        "    image = decode_image(example['image'])\n",
        "    idnum = example['id']\n",
        "    return image, idnum # returns a dataset of image(s)\n",
        "\n",
        "def load_dataset(filenames, labeled=True, ordered=False):\n",
        "    # Read from TFRecords. For optimal performance, reading from multiple files at once and\n",
        "    # disregarding data order. Order does not matter since we will be shuffling the data anyway.\n",
        "\n",
        "    ignore_order = tf.data.Options()\n",
        "    if not ordered:\n",
        "        ignore_order.experimental_deterministic = False # disable order, increase speed\n",
        "\n",
        "    dataset = tf.data.TFRecordDataset(filenames, num_parallel_reads=AUTO) # automatically interleaves reads from multiple files\n",
        "    dataset = dataset.with_options(ignore_order) # uses data as soon as it streams in, rather than in its original order\n",
        "    dataset = dataset.map(read_labeled_tfrecord if labeled else read_unlabeled_tfrecord, num_parallel_calls=AUTO)\n",
        "    # returns a dataset of (image, label) pairs if labeled=True or (image, id) pairs if labeled=False\n",
        "    return dataset"
      ]
    },
    {
      "cell_type": "code",
      "execution_count": null,
      "metadata": {
        "colab": {
          "base_uri": "https://localhost:8080/"
        },
        "id": "Tb0VwenlYyso",
        "outputId": "66d51266-380d-419f-fab3-1702e8a5274f"
      },
      "outputs": [
        {
          "output_type": "stream",
          "name": "stdout",
          "text": [
            "Dataset: 12753 training images, 3712 validation images, 7382 unlabeled test images\n"
          ]
        }
      ],
      "source": [
        "def data_augment(image, label):\n",
        "    # Thanks to the dataset.prefetch(AUTO)\n",
        "    # statement in the next function (below), this happens essentially\n",
        "    # for free on TPU. Data pipeline code is executed on the \"CPU\"\n",
        "    # part of the TPU while the TPU itself is computing gradients.\n",
        "    image = tf.image.random_brightness(image, max_delta=0.1)\n",
        "    image = tf.image.random_flip_left_right(image)\n",
        "    image = tf.image.random_flip_up_down(image)\n",
        "    \n",
        "    #image = tf.image.random_saturation(image, 0, 2)\n",
        "    return image, label   \n",
        "\n",
        "def get_training_dataset():\n",
        "    dataset = load_dataset(TRAINING_FILENAMES, labeled=True)\n",
        "    dataset = dataset.map(data_augment, num_parallel_calls=AUTO)\n",
        "    dataset = dataset.repeat() # the training dataset must repeat for several epochs\n",
        "    dataset = dataset.shuffle(2048)\n",
        "    dataset = dataset.batch(BATCH_SIZE)\n",
        "    dataset = dataset.prefetch(AUTO) # prefetch next batch while training (autotune prefetch buffer size)\n",
        "    return dataset\n",
        "\n",
        "def get_validation_dataset(ordered=False):\n",
        "    dataset = load_dataset(VALIDATION_FILENAMES, labeled=True, ordered=ordered)\n",
        "    dataset = dataset.batch(BATCH_SIZE)\n",
        "    dataset = dataset.cache()\n",
        "    dataset = dataset.prefetch(AUTO)\n",
        "    return dataset\n",
        "\n",
        "def get_test_dataset(ordered=False):\n",
        "    dataset = load_dataset(TEST_FILENAMES, labeled=False, ordered=ordered)\n",
        "    dataset = dataset.batch(BATCH_SIZE)\n",
        "    dataset = dataset.prefetch(AUTO)\n",
        "    return dataset\n",
        "\n",
        "def count_data_items(filenames):\n",
        "    # the number of data items is written in the name of the .tfrec\n",
        "    # files, i.e. flowers00-230.tfrec = 230 data items\n",
        "    n = [int(re.compile(r\"-([0-9]*)\\.\").search(filename).group(1)) for filename in filenames]\n",
        "    return np.sum(n)\n",
        "\n",
        "NUM_TRAINING_IMAGES = count_data_items(TRAINING_FILENAMES)\n",
        "NUM_VALIDATION_IMAGES = count_data_items(VALIDATION_FILENAMES)\n",
        "NUM_TEST_IMAGES = count_data_items(TEST_FILENAMES)\n",
        "print('Dataset: {} training images, {} validation images, {} unlabeled test images'.format(NUM_TRAINING_IMAGES, NUM_VALIDATION_IMAGES, NUM_TEST_IMAGES))\n"
      ]
    },
    {
      "cell_type": "code",
      "execution_count": null,
      "metadata": {
        "colab": {
          "base_uri": "https://localhost:8080/"
        },
        "id": "pVywS5tzYzQW",
        "outputId": "c3cf5492-fff3-4b21-aad8-cb5f4edc2aa1"
      },
      "outputs": [
        {
          "output_type": "stream",
          "name": "stdout",
          "text": [
            "Training: <PrefetchDataset element_spec=(TensorSpec(shape=(None, 512, 512, 3), dtype=tf.float32, name=None), TensorSpec(shape=(None,), dtype=tf.int32, name=None))>\n",
            "Validation: <PrefetchDataset element_spec=(TensorSpec(shape=(None, 512, 512, 3), dtype=tf.float32, name=None), TensorSpec(shape=(None,), dtype=tf.int32, name=None))>\n",
            "Test: <PrefetchDataset element_spec=(TensorSpec(shape=(None, 512, 512, 3), dtype=tf.float32, name=None), TensorSpec(shape=(None,), dtype=tf.string, name=None))>\n"
          ]
        }
      ],
      "source": [
        "# Define the batch size. This will be 16 with TPU off and 128 (=16*8) with TPU on\n",
        "BATCH_SIZE = 16 * strategy.num_replicas_in_sync\n",
        "\n",
        "ds_train = get_training_dataset()\n",
        "ds_valid = get_validation_dataset()\n",
        "ds_test = get_test_dataset()\n",
        "\n",
        "print(\"Training:\", ds_train)\n",
        "print (\"Validation:\", ds_valid)\n",
        "print(\"Test:\", ds_test)"
      ]
    },
    {
      "cell_type": "markdown",
      "metadata": {
        "id": "J8IroXO5ZVjO"
      },
      "source": [
        "# Displaying batch of images"
      ]
    },
    {
      "cell_type": "code",
      "execution_count": null,
      "metadata": {
        "id": "mheiZcXgZGQY"
      },
      "outputs": [],
      "source": [
        "from matplotlib import pyplot as plt\n",
        "\n",
        "def batch_to_numpy_images_and_labels(data):\n",
        "    images, labels = data\n",
        "    numpy_images = images.numpy()\n",
        "    numpy_labels = labels.numpy()\n",
        "    if numpy_labels.dtype == object: # binary string in this case,\n",
        "                                     # these are image ID strings\n",
        "        numpy_labels = [None for _ in enumerate(numpy_images)]\n",
        "    # If no labels, only image IDs, return None for labels (this is\n",
        "    # the case for test data)\n",
        "    return numpy_images, numpy_labels\n",
        "\n",
        "def title_from_label_and_target(label, correct_label):\n",
        "    if correct_label is None:\n",
        "        return CLASSES[label], True\n",
        "    correct = (label == correct_label)\n",
        "    return \"{} [{}{}{}]\".format(CLASSES[label], 'OK' if correct else 'NO', u\"\\u2192\" if not correct else '',\n",
        "                                CLASSES[correct_label] if not correct else ''), correct\n",
        "\n",
        "def display_one_flower(image, title, subplot, red=False, titlesize=16):\n",
        "    plt.subplot(*subplot)\n",
        "    plt.axis('off')\n",
        "    plt.imshow(image)\n",
        "    if len(title) > 0:\n",
        "        plt.title(title, fontsize=int(titlesize) if not red else int(titlesize/1.2), color='red' if red else 'black', fontdict={'verticalalignment':'center'}, pad=int(titlesize/1.5))\n",
        "    return (subplot[0], subplot[1], subplot[2]+1)\n",
        "    \n",
        "def display_batch_of_images(databatch, predictions=None):\n",
        "    \"\"\"This will work with:\n",
        "    display_batch_of_images(images)\n",
        "    display_batch_of_images(images, predictions)\n",
        "    display_batch_of_images((images, labels))\n",
        "    display_batch_of_images((images, labels), predictions)\n",
        "    \"\"\"\n",
        "    # data\n",
        "    images, labels = batch_to_numpy_images_and_labels(databatch)\n",
        "    if labels is None:\n",
        "        labels = [None for _ in enumerate(images)]\n",
        "        \n",
        "    # auto-squaring: this will drop data that does not fit into square\n",
        "    # or square-ish rectangle\n",
        "    rows = int(math.sqrt(len(images)))\n",
        "    cols = len(images)//rows\n",
        "        \n",
        "    # size and spacing\n",
        "    FIGSIZE = 13.0\n",
        "    SPACING = 0.1\n",
        "    subplot=(rows,cols,1)\n",
        "    if rows < cols:\n",
        "        plt.figure(figsize=(FIGSIZE,FIGSIZE/cols*rows))\n",
        "    else:\n",
        "        plt.figure(figsize=(FIGSIZE/rows*cols,FIGSIZE))\n",
        "    \n",
        "    # display\n",
        "    for i, (image, label) in enumerate(zip(images[:rows*cols], labels[:rows*cols])):\n",
        "        title = '' if label is None else CLASSES[label]\n",
        "        correct = True\n",
        "        if predictions is not None:\n",
        "            title, correct = title_from_label_and_target(predictions[i], label)\n",
        "        dynamic_titlesize = FIGSIZE*SPACING/max(rows,cols)*40+3 # magic formula tested to work from 1x1 to 10x10 images\n",
        "        subplot = display_one_flower(image, title, subplot, not correct, titlesize=dynamic_titlesize)\n",
        "    \n",
        "    #layout\n",
        "    plt.tight_layout()\n",
        "    if label is None and predictions is None:\n",
        "        plt.subplots_adjust(wspace=0, hspace=0)\n",
        "    else:\n",
        "        plt.subplots_adjust(wspace=SPACING, hspace=SPACING)\n",
        "    plt.show()\n",
        "\n",
        "\n",
        "def display_training_curves(training, validation, title, subplot):\n",
        "    if subplot%10==1: # set up the subplots on the first call\n",
        "        plt.subplots(figsize=(10,10), facecolor='#F0F0F0')\n",
        "        plt.tight_layout()\n",
        "    ax = plt.subplot(subplot)\n",
        "    ax.set_facecolor('#F8F8F8')\n",
        "    ax.plot(training)\n",
        "    ax.plot(validation)\n",
        "    ax.set_title('model '+ title)\n",
        "    ax.set_ylabel(title)\n",
        "    #ax.set_ylim(0.28,1.05)\n",
        "    ax.set_xlabel('epoch')\n",
        "    ax.legend(['train', 'valid.'])"
      ]
    },
    {
      "cell_type": "markdown",
      "metadata": {
        "id": "A6mU-lXjZhky"
      },
      "source": [
        "# Model Definition"
      ]
    },
    {
      "cell_type": "code",
      "execution_count": null,
      "metadata": {
        "colab": {
          "base_uri": "https://localhost:8080/"
        },
        "id": "4XI8T7W8ZjWf",
        "outputId": "26c0d595-eeed-4152-939c-3a6869dd0dfe"
      },
      "outputs": [
        {
          "output_type": "stream",
          "name": "stdout",
          "text": [
            "complete\n"
          ]
        }
      ],
      "source": [
        "EPOCHS = 50\n",
        "\n",
        "with strategy.scope():\n",
        "    pretrained_model = tf.keras.applications.EfficientNetB4(\n",
        "        weights='imagenet',\n",
        "        include_top=False ,\n",
        "        input_shape=[*IMAGE_SIZE, 3]\n",
        "    )\n",
        "    pretrained_model.trainable = True\n",
        "    \n",
        "    model = tf.keras.Sequential([\n",
        "        # To a base pretrained on ImageNet to extract features from images...\n",
        "        pretrained_model,\n",
        "        # ... attach a new head to act as a classifier.\n",
        "        tf.keras.layers.GlobalAveragePooling2D(),\n",
        "        tf.keras.layers.Dense(2048, activation='relu', kernel_regularizer = tf.keras.regularizers.l2(0.01)),\n",
        "        tf.keras.layers.Dropout(0.5),\n",
        "        tf.keras.layers.Dense(len(CLASSES), activation='softmax')\n",
        "    ])\n",
        "print('complete')"
      ]
    },
    {
      "cell_type": "code",
      "execution_count": null,
      "metadata": {
        "colab": {
          "base_uri": "https://localhost:8080/",
          "height": 294
        },
        "id": "Bwg6jWbCZqF0",
        "outputId": "a50e4d57-0606-4b54-f9c6-4d64ac86800e"
      },
      "outputs": [
        {
          "output_type": "stream",
          "name": "stdout",
          "text": [
            "Learning rate schedule: 1e-05 to 5e-05 to 1e-05\n"
          ]
        },
        {
          "output_type": "display_data",
          "data": {
            "image/png": "[encoded data removed]",
            "text/plain": [
              "<Figure size 432x288 with 1 Axes>"
            ]
          },
          "metadata": {
            "needs_background": "light"
          }
        }
      ],
      "source": [
        "# Learning Rate Scheduler\n",
        "# Learning Rate Schedule for Fine Tuning #\n",
        "def exponential_lr(epoch,\n",
        "                   start_lr = 0.00001, min_lr = 0.00001, max_lr = 0.00005,\n",
        "                   rampup_epochs = 5, sustain_epochs = 0,\n",
        "                   exp_decay = 0.8):\n",
        "\n",
        "    def lr(epoch, start_lr, min_lr, max_lr, rampup_epochs, sustain_epochs, exp_decay):\n",
        "        # linear increase from start to rampup_epochs\n",
        "        if epoch < rampup_epochs:\n",
        "            lr = ((max_lr - start_lr) /\n",
        "                  rampup_epochs * epoch + start_lr)\n",
        "        # constant max_lr during sustain_epochs\n",
        "        elif epoch < rampup_epochs + sustain_epochs:\n",
        "            lr = max_lr\n",
        "        # exponential decay towards min_lr\n",
        "        else:\n",
        "            lr = ((max_lr - min_lr) *\n",
        "                  exp_decay**(epoch - rampup_epochs - sustain_epochs) +\n",
        "                  min_lr)\n",
        "        return lr\n",
        "    return lr(epoch,\n",
        "              start_lr,\n",
        "              min_lr,\n",
        "              max_lr,\n",
        "              rampup_epochs,\n",
        "              sustain_epochs,\n",
        "              exp_decay)\n",
        "\n",
        "lr_callback = tf.keras.callbacks.LearningRateScheduler(exponential_lr, verbose=True)\n",
        "\n",
        "rng = [i for i in range(EPOCHS)]\n",
        "y = [exponential_lr(x) for x in rng]\n",
        "plt.plot(rng, y)\n",
        "print(\"Learning rate schedule: {:.3g} to {:.3g} to {:.3g}\".format(y[0], max(y), y[-1]))"
      ]
    },
    {
      "cell_type": "markdown",
      "metadata": {
        "id": "BhHs0BzsZ6Qw"
      },
      "source": [
        "# Training "
      ]
    },
    {
      "cell_type": "code",
      "source": [
        "model.compile(\n",
        "    optimizer='adam',\n",
        "    loss = 'sparse_categorical_crossentropy',\n",
        "    metrics=['sparse_categorical_accuracy'],\n",
        ")\n",
        "\n",
        "model.summary()"
      ],
      "metadata": {
        "colab": {
          "base_uri": "https://localhost:8080/"
        },
        "id": "qfGmoB8rn9iX",
        "outputId": "d47db676-f385-4073-d908-b722960cbad7"
      },
      "execution_count": null,
      "outputs": [
        {
          "output_type": "stream",
          "name": "stdout",
          "text": [
            "Model: \"sequential_1\"\n",
            "_________________________________________________________________\n",
            " Layer (type)                Output Shape              Param #   \n",
            "=================================================================\n",
            " efficientnetb4 (Functional)  (None, 16, 16, 1792)     17673823  \n",
            "                                                                 \n",
            " global_average_pooling2d_1   (None, 1792)             0         \n",
            " (GlobalAveragePooling2D)                                        \n",
            "                                                                 \n",
            " dense_2 (Dense)             (None, 2048)              3672064   \n",
            "                                                                 \n",
            " dropout_1 (Dropout)         (None, 2048)              0         \n",
            "                                                                 \n",
            " dense_3 (Dense)             (None, 104)               213096    \n",
            "                                                                 \n",
            "=================================================================\n",
            "Total params: 21,558,983\n",
            "Trainable params: 21,433,776\n",
            "Non-trainable params: 125,207\n",
            "_________________________________________________________________\n"
          ]
        }
      ]
    },
    {
      "cell_type": "code",
      "execution_count": null,
      "metadata": {
        "colab": {
          "base_uri": "https://localhost:8080/"
        },
        "id": "M8e0LxmNZ5w6",
        "outputId": "853a692d-9d3f-492c-9316-e734ff2ea43a"
      },
      "outputs": [
        {
          "output_type": "stream",
          "name": "stdout",
          "text": [
            "\n",
            "Epoch 1: LearningRateScheduler setting learning rate to 0.0010000000474974513.\n",
            "Epoch 1/40\n",
            "99/99 [==============================] - 233s 1s/step - loss: 5.8625 - sparse_categorical_accuracy: 0.4553 - val_loss: 5.8778 - val_sparse_categorical_accuracy: 0.0442 - lr: 0.0010\n",
            "\n",
            "Epoch 2: LearningRateScheduler setting learning rate to 0.0008100000379979611.\n",
            "Epoch 2/40\n",
            "99/99 [==============================] - 73s 733ms/step - loss: 1.7592 - sparse_categorical_accuracy: 0.6888 - val_loss: 6.0388 - val_sparse_categorical_accuracy: 0.0439 - lr: 8.1000e-04\n",
            "\n",
            "Epoch 3: LearningRateScheduler setting learning rate to 0.0005060000335611404.\n",
            "Epoch 3/40\n",
            "99/99 [==============================] - 73s 735ms/step - loss: 1.2101 - sparse_categorical_accuracy: 0.7951 - val_loss: 6.0371 - val_sparse_categorical_accuracy: 0.0461 - lr: 5.0600e-04\n",
            "\n",
            "Epoch 4: LearningRateScheduler setting learning rate to 0.00023240000449121004.\n",
            "Epoch 4/40\n",
            "99/99 [==============================] - 73s 734ms/step - loss: 0.8340 - sparse_categorical_accuracy: 0.8632 - val_loss: 5.6358 - val_sparse_categorical_accuracy: 0.0498 - lr: 2.3240e-04\n",
            "\n",
            "Epoch 5: LearningRateScheduler setting learning rate to 8.648000176530332e-05.\n",
            "Epoch 5/40\n",
            "99/99 [==============================] - 73s 735ms/step - loss: 0.6346 - sparse_categorical_accuracy: 0.9002 - val_loss: 4.2899 - val_sparse_categorical_accuracy: 0.1711 - lr: 8.6480e-05\n",
            "\n",
            "Epoch 6: LearningRateScheduler setting learning rate to 5e-05.\n",
            "Epoch 6/40\n",
            "99/99 [==============================] - 73s 735ms/step - loss: 0.5595 - sparse_categorical_accuracy: 0.9134 - val_loss: 2.1162 - val_sparse_categorical_accuracy: 0.5493 - lr: 5.0000e-05\n",
            "\n",
            "Epoch 7: LearningRateScheduler setting learning rate to 4.2000000000000004e-05.\n",
            "Epoch 7/40\n",
            "99/99 [==============================] - 73s 734ms/step - loss: 0.5225 - sparse_categorical_accuracy: 0.9158 - val_loss: 1.1462 - val_sparse_categorical_accuracy: 0.7608 - lr: 4.2000e-05\n",
            "\n",
            "Epoch 8: LearningRateScheduler setting learning rate to 3.5600000000000005e-05.\n",
            "Epoch 8/40\n",
            "99/99 [==============================] - 72s 733ms/step - loss: 0.4937 - sparse_categorical_accuracy: 0.9227 - val_loss: 0.7591 - val_sparse_categorical_accuracy: 0.8513 - lr: 3.5600e-05\n",
            "\n",
            "Epoch 9: LearningRateScheduler setting learning rate to 3.0480000000000006e-05.\n",
            "Epoch 9/40\n",
            "99/99 [==============================] - 73s 733ms/step - loss: 0.4747 - sparse_categorical_accuracy: 0.9247 - val_loss: 0.6341 - val_sparse_categorical_accuracy: 0.8817 - lr: 3.0480e-05\n",
            "\n",
            "Epoch 10: LearningRateScheduler setting learning rate to 2.6384000000000004e-05.\n",
            "Epoch 10/40\n",
            "99/99 [==============================] - 72s 733ms/step - loss: 0.4591 - sparse_categorical_accuracy: 0.9278 - val_loss: 0.6282 - val_sparse_categorical_accuracy: 0.8850 - lr: 2.6384e-05\n",
            "\n",
            "Epoch 11: LearningRateScheduler setting learning rate to 2.3107200000000005e-05.\n",
            "Epoch 11/40\n",
            "99/99 [==============================] - 73s 735ms/step - loss: 0.4450 - sparse_categorical_accuracy: 0.9314 - val_loss: 0.5862 - val_sparse_categorical_accuracy: 0.8944 - lr: 2.3107e-05\n",
            "\n",
            "Epoch 12: LearningRateScheduler setting learning rate to 2.0485760000000004e-05.\n",
            "Epoch 12/40\n",
            "99/99 [==============================] - 73s 741ms/step - loss: 0.4379 - sparse_categorical_accuracy: 0.9312 - val_loss: 0.9465 - val_sparse_categorical_accuracy: 0.7966 - lr: 2.0486e-05\n",
            "\n",
            "Epoch 13: LearningRateScheduler setting learning rate to 1.8388608000000004e-05.\n",
            "Epoch 13/40\n",
            "99/99 [==============================] - 73s 735ms/step - loss: 0.4213 - sparse_categorical_accuracy: 0.9355 - val_loss: 0.6557 - val_sparse_categorical_accuracy: 0.8750 - lr: 1.8389e-05\n",
            "\n",
            "Epoch 14: LearningRateScheduler setting learning rate to 1.6710886400000004e-05.\n",
            "Epoch 14/40\n",
            "99/99 [==============================] - 73s 734ms/step - loss: 0.4124 - sparse_categorical_accuracy: 0.9354 - val_loss: 0.6557 - val_sparse_categorical_accuracy: 0.8753 - lr: 1.6711e-05\n",
            "\n",
            "Epoch 15: LearningRateScheduler setting learning rate to 1.5368709120000003e-05.\n",
            "Epoch 15/40\n",
            "99/99 [==============================] - 73s 735ms/step - loss: 0.4085 - sparse_categorical_accuracy: 0.9377 - val_loss: 0.5919 - val_sparse_categorical_accuracy: 0.8922 - lr: 1.5369e-05\n",
            "\n",
            "Epoch 16: LearningRateScheduler setting learning rate to 1.4294967296000005e-05.\n",
            "Epoch 16/40\n",
            "99/99 [==============================] - 73s 738ms/step - loss: 0.3936 - sparse_categorical_accuracy: 0.9397 - val_loss: 0.5898 - val_sparse_categorical_accuracy: 0.8874 - lr: 1.4295e-05\n",
            "\n",
            "Epoch 17: LearningRateScheduler setting learning rate to 1.3435973836800004e-05.\n",
            "Epoch 17/40\n",
            "99/99 [==============================] - 73s 737ms/step - loss: 0.3923 - sparse_categorical_accuracy: 0.9373 - val_loss: 0.5735 - val_sparse_categorical_accuracy: 0.8957 - lr: 1.3436e-05\n",
            "\n",
            "Epoch 18: LearningRateScheduler setting learning rate to 1.2748779069440003e-05.\n",
            "Epoch 18/40\n",
            "99/99 [==============================] - 73s 736ms/step - loss: 0.3918 - sparse_categorical_accuracy: 0.9397 - val_loss: 0.5411 - val_sparse_categorical_accuracy: 0.9019 - lr: 1.2749e-05\n",
            "\n",
            "Epoch 19: LearningRateScheduler setting learning rate to 1.2199023255552003e-05.\n",
            "Epoch 19/40\n",
            "99/99 [==============================] - 73s 736ms/step - loss: 0.3803 - sparse_categorical_accuracy: 0.9441 - val_loss: 0.5527 - val_sparse_categorical_accuracy: 0.8982 - lr: 1.2199e-05\n",
            "\n",
            "Epoch 20: LearningRateScheduler setting learning rate to 1.1759218604441602e-05.\n",
            "Epoch 20/40\n",
            "99/99 [==============================] - 73s 737ms/step - loss: 0.3711 - sparse_categorical_accuracy: 0.9440 - val_loss: 0.5421 - val_sparse_categorical_accuracy: 0.9011 - lr: 1.1759e-05\n",
            "\n",
            "Epoch 21: LearningRateScheduler setting learning rate to 1.1407374883553282e-05.\n",
            "Epoch 21/40\n",
            "99/99 [==============================] - 73s 737ms/step - loss: 0.3750 - sparse_categorical_accuracy: 0.9431 - val_loss: 0.5533 - val_sparse_categorical_accuracy: 0.8984 - lr: 1.1407e-05\n",
            "\n",
            "Epoch 22: LearningRateScheduler setting learning rate to 1.1125899906842627e-05.\n",
            "Epoch 22/40\n",
            "99/99 [==============================] - 73s 736ms/step - loss: 0.3733 - sparse_categorical_accuracy: 0.9433 - val_loss: 0.5543 - val_sparse_categorical_accuracy: 0.8976 - lr: 1.1126e-05\n",
            "\n",
            "Epoch 23: LearningRateScheduler setting learning rate to 1.0900719925474101e-05.\n",
            "Epoch 23/40\n",
            "99/99 [==============================] - 73s 737ms/step - loss: 0.3524 - sparse_categorical_accuracy: 0.9504 - val_loss: 0.5653 - val_sparse_categorical_accuracy: 0.8979 - lr: 1.0901e-05\n",
            "\n",
            "Epoch 24: LearningRateScheduler setting learning rate to 1.0720575940379282e-05.\n",
            "Epoch 24/40\n",
            "99/99 [==============================] - 73s 734ms/step - loss: 0.3681 - sparse_categorical_accuracy: 0.9437 - val_loss: 0.5404 - val_sparse_categorical_accuracy: 0.9027 - lr: 1.0721e-05\n",
            "\n",
            "Epoch 25: LearningRateScheduler setting learning rate to 1.0576460752303425e-05.\n",
            "Epoch 25/40\n",
            "99/99 [==============================] - 73s 735ms/step - loss: 0.3542 - sparse_categorical_accuracy: 0.9474 - val_loss: 0.5280 - val_sparse_categorical_accuracy: 0.9033 - lr: 1.0576e-05\n",
            "\n",
            "Epoch 26: LearningRateScheduler setting learning rate to 1.046116860184274e-05.\n",
            "Epoch 26/40\n",
            "99/99 [==============================] - 73s 735ms/step - loss: 0.3472 - sparse_categorical_accuracy: 0.9498 - val_loss: 0.5642 - val_sparse_categorical_accuracy: 0.8955 - lr: 1.0461e-05\n",
            "\n",
            "Epoch 27: LearningRateScheduler setting learning rate to 1.0368934881474192e-05.\n",
            "Epoch 27/40\n",
            "99/99 [==============================] - 73s 735ms/step - loss: 0.3490 - sparse_categorical_accuracy: 0.9481 - val_loss: 0.5345 - val_sparse_categorical_accuracy: 0.9044 - lr: 1.0369e-05\n",
            "\n",
            "Epoch 28: LearningRateScheduler setting learning rate to 1.0295147905179355e-05.\n",
            "Epoch 28/40\n",
            "99/99 [==============================] - 73s 734ms/step - loss: 0.3491 - sparse_categorical_accuracy: 0.9500 - val_loss: 0.5374 - val_sparse_categorical_accuracy: 0.9014 - lr: 1.0295e-05\n",
            "\n",
            "Epoch 29: LearningRateScheduler setting learning rate to 1.0236118324143484e-05.\n",
            "Epoch 29/40\n",
            "99/99 [==============================] - 72s 730ms/step - loss: 0.3376 - sparse_categorical_accuracy: 0.9521 - val_loss: 0.6513 - val_sparse_categorical_accuracy: 0.8664 - lr: 1.0236e-05\n",
            "\n",
            "Epoch 30: LearningRateScheduler setting learning rate to 1.0188894659314786e-05.\n",
            "Epoch 30/40\n",
            "99/99 [==============================] - 73s 736ms/step - loss: 0.3368 - sparse_categorical_accuracy: 0.9507 - val_loss: 0.5248 - val_sparse_categorical_accuracy: 0.9044 - lr: 1.0189e-05\n",
            "\n",
            "Epoch 31: LearningRateScheduler setting learning rate to 1.015111572745183e-05.\n",
            "Epoch 31/40\n",
            "99/99 [==============================] - 73s 735ms/step - loss: 0.3379 - sparse_categorical_accuracy: 0.9514 - val_loss: 0.5685 - val_sparse_categorical_accuracy: 0.8939 - lr: 1.0151e-05\n",
            "\n",
            "Epoch 32: LearningRateScheduler setting learning rate to 1.0120892581961464e-05.\n",
            "Epoch 32/40\n",
            "99/99 [==============================] - 73s 737ms/step - loss: 0.3346 - sparse_categorical_accuracy: 0.9507 - val_loss: 0.5240 - val_sparse_categorical_accuracy: 0.9060 - lr: 1.0121e-05\n",
            "\n",
            "Epoch 33: LearningRateScheduler setting learning rate to 1.009671406556917e-05.\n",
            "Epoch 33/40\n",
            "99/99 [==============================] - 72s 727ms/step - loss: 0.3300 - sparse_categorical_accuracy: 0.9520 - val_loss: 0.5354 - val_sparse_categorical_accuracy: 0.9049 - lr: 1.0097e-05\n",
            "\n",
            "Epoch 34: LearningRateScheduler setting learning rate to 1.0077371252455338e-05.\n",
            "Epoch 34/40\n",
            "99/99 [==============================] - 73s 736ms/step - loss: 0.3206 - sparse_categorical_accuracy: 0.9535 - val_loss: 0.5228 - val_sparse_categorical_accuracy: 0.9057 - lr: 1.0077e-05\n",
            "\n",
            "Epoch 35: LearningRateScheduler setting learning rate to 1.006189700196427e-05.\n",
            "Epoch 35/40\n",
            "99/99 [==============================] - 73s 735ms/step - loss: 0.3243 - sparse_categorical_accuracy: 0.9528 - val_loss: 0.5265 - val_sparse_categorical_accuracy: 0.9060 - lr: 1.0062e-05\n",
            "\n",
            "Epoch 36: LearningRateScheduler setting learning rate to 1.0049517601571416e-05.\n",
            "Epoch 36/40\n",
            "99/99 [==============================] - 73s 735ms/step - loss: 0.3190 - sparse_categorical_accuracy: 0.9556 - val_loss: 0.5193 - val_sparse_categorical_accuracy: 0.9041 - lr: 1.0050e-05\n",
            "\n",
            "Epoch 37: LearningRateScheduler setting learning rate to 1.0039614081257132e-05.\n",
            "Epoch 37/40\n",
            "99/99 [==============================] - 73s 735ms/step - loss: 0.3162 - sparse_categorical_accuracy: 0.9557 - val_loss: 0.6156 - val_sparse_categorical_accuracy: 0.8785 - lr: 1.0040e-05\n",
            "\n",
            "Epoch 38: LearningRateScheduler setting learning rate to 1.0031691265005707e-05.\n",
            "Epoch 38/40\n",
            "99/99 [==============================] - 73s 735ms/step - loss: 0.3170 - sparse_categorical_accuracy: 0.9542 - val_loss: 0.5172 - val_sparse_categorical_accuracy: 0.9060 - lr: 1.0032e-05\n",
            "\n",
            "Epoch 39: LearningRateScheduler setting learning rate to 1.0025353012004565e-05.\n",
            "Epoch 39/40\n",
            "99/99 [==============================] - 73s 737ms/step - loss: 0.3116 - sparse_categorical_accuracy: 0.9542 - val_loss: 0.5134 - val_sparse_categorical_accuracy: 0.9081 - lr: 1.0025e-05\n",
            "\n",
            "Epoch 40: LearningRateScheduler setting learning rate to 1.0020282409603653e-05.\n",
            "Epoch 40/40\n",
            "99/99 [==============================] - 73s 736ms/step - loss: 0.3080 - sparse_categorical_accuracy: 0.9560 - val_loss: 0.5225 - val_sparse_categorical_accuracy: 0.9027 - lr: 1.0020e-05\n"
          ]
        }
      ],
      "source": [
        "# Define training epochs\n",
        "EPOCHS = 40\n",
        "STEPS_PER_EPOCH = NUM_TRAINING_IMAGES // BATCH_SIZE\n",
        "\n",
        "history = model.fit(\n",
        "    ds_train,\n",
        "    validation_data=ds_valid,\n",
        "    epochs=EPOCHS,\n",
        "    steps_per_epoch=STEPS_PER_EPOCH,\n",
        "    callbacks=[lr_callback],\n",
        ")"
      ]
    },
    {
      "cell_type": "code",
      "execution_count": null,
      "metadata": {
        "id": "9WhUSa7SZ_ch",
        "colab": {
          "base_uri": "https://localhost:8080/",
          "height": 755
        },
        "outputId": "882d083d-b89f-4b7f-b4d3-41ba951b2a94"
      },
      "outputs": [
        {
          "output_type": "display_data",
          "data": {
            "image/png": "[encoded data removed]",
            "text/plain": [
              "<Figure size 720x720 with 2 Axes>"
            ]
          },
          "metadata": {}
        }
      ],
      "source": [
        "display_training_curves(\n",
        "    history.history['loss'],\n",
        "    history.history['val_loss'],\n",
        "    'loss',\n",
        "    211,\n",
        ")\n",
        "display_training_curves(\n",
        "    history.history['sparse_categorical_accuracy'],\n",
        "    history.history['val_sparse_categorical_accuracy'],\n",
        "    'accuracy',\n",
        "    212,\n",
        ")"
      ]
    },
    {
      "cell_type": "code",
      "source": [
        "import matplotlib.pyplot as plt\n",
        "from sklearn.metrics import f1_score, precision_score, recall_score, confusion_matrix\n",
        "\n",
        "def display_confusion_matrix(cmat, score, precision, recall):\n",
        "    plt.figure(figsize=(15,15))\n",
        "    ax = plt.gca()\n",
        "    ax.matshow(cmat, cmap='Reds')\n",
        "    ax.set_xticks(range(len(CLASSES)))\n",
        "    ax.set_xticklabels(CLASSES, fontdict={'fontsize': 7})\n",
        "    plt.setp(ax.get_xticklabels(), rotation=45, ha=\"left\", rotation_mode=\"anchor\")\n",
        "    ax.set_yticks(range(len(CLASSES)))\n",
        "    ax.set_yticklabels(CLASSES, fontdict={'fontsize': 7})\n",
        "    plt.setp(ax.get_yticklabels(), rotation=45, ha=\"right\", rotation_mode=\"anchor\")\n",
        "    titlestring = \"\"\n",
        "    if score is not None:\n",
        "        titlestring += 'f1 = {:.3f} '.format(score)\n",
        "    if precision is not None:\n",
        "        titlestring += '\\nprecision = {:.3f} '.format(precision)\n",
        "    if recall is not None:\n",
        "        titlestring += '\\nrecall = {:.3f} '.format(recall)\n",
        "    if len(titlestring) > 0:\n",
        "        ax.text(101, 1, titlestring, fontdict={'fontsize': 18, 'horizontalalignment':'right', 'verticalalignment':'top', 'color':'#804040'})\n",
        "    plt.show()\n",
        "    \n",
        "def display_training_curves(training, validation, title, subplot):\n",
        "    if subplot%10==1: # set up the subplots on the first call\n",
        "        plt.subplots(figsize=(10,10), facecolor='#F0F0F0')\n",
        "        plt.tight_layout()\n",
        "    ax = plt.subplot(subplot)\n",
        "    ax.set_facecolor('#F8F8F8')\n",
        "    ax.plot(training)\n",
        "    ax.plot(validation)\n",
        "    ax.set_title('model '+ title)\n",
        "    ax.set_ylabel(title)\n",
        "    #ax.set_ylim(0.28,1.05)\n",
        "    ax.set_xlabel('epoch')\n",
        "    ax.legend(['train', 'valid.'])"
      ],
      "metadata": {
        "id": "76YTzLqYnQSF"
      },
      "execution_count": null,
      "outputs": []
    }
  ],
  "metadata": {
    "accelerator": "TPU",
    "colab": {
      "collapsed_sections": [],
      "name": "TPU_tutorial(competition in kaggle)",
      "provenance": [],
      "authorship_tag": "ABX9TyMAmbj6BpWITGg5KEredINX",
      "include_colab_link": true
    },
    "kernelspec": {
      "display_name": "Python 3",
      "name": "python3"
    },
    "language_info": {
      "name": "python"
    }
  },
  "nbformat": 4,
  "nbformat_minor": 0
}